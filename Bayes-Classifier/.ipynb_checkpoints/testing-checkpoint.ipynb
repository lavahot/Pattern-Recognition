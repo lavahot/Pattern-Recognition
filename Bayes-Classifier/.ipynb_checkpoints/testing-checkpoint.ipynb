{
 "metadata": {
  "name": "",
  "signature": "sha256:217c9585fb5a2a5edb9a10a17117e7f0e0e7c4cee458cf2a8d7970738132d92c"
 },
 "nbformat": 3,
 "nbformat_minor": 0,
 "worksheets": [
  {
   "cells": [
    {
     "cell_type": "code",
     "collapsed": false,
     "input": [
      "%matplotlib inline\n",
      "import numpy as np\n",
      "from matplotlib import pyplot"
     ],
     "language": "python",
     "metadata": {},
     "outputs": [],
     "prompt_number": 1
    },
    {
     "cell_type": "code",
     "collapsed": false,
     "input": [
      "# Distribution\n",
      "class Distribution:\n",
      "    def __init__(self, mu, sigm, prior = 1.0):\n",
      "        self.mu = copy.deepcopy(mu)\n",
      "        self.sigm = copy.deepcopy(sigm)\n",
      "        self.prior = prior\n",
      "        self.dims = len(mu)\n",
      "        if len(mu) != len(sigm):\n",
      "            raise Exception('mu and sigm must have the same number of dims.')\n",
      "    def genSamples(self, n):\n",
      "        samples = np.empty((n, self.dims))\n",
      "        for i in range(n):\n",
      "            for j in range(self.dims):\n",
      "                samples[i, j] = random.gauss(self.mu[j], self.sigm[j])\n",
      "        return samples\n",
      "    def getLogProb(self, val):\n",
      "        logProb = math.log(self.prior)\n",
      "        for i in range(self.dims):\n",
      "            logProb += -(val[i] - self.mu[i])**2 / (2 * self.sigm[i]**2)\n",
      "        return logProb\n",
      "    def getLogProbFormula(self):\n",
      "        X = []\n",
      "        formula = math.log(self.prior)\n",
      "        for i in range(self.dims):\n",
      "            X.append(sympy.Symbol('x_'+str(i)))\n",
      "        for x in X:\n",
      "            formula = formula - ((x - self.mu[i])**2 / (2 * self.sigm[i]**2))\n",
      "        return formula\n",
      "    def __str__(self):\n",
      "        return 'mu={mu}, sigm={sigm}, prior={prior}'.format(mu=self.mu,\n",
      "                                                            sigm=self.sigm,\n",
      "                                                            prior=self.prior)\n",
      "def predictClass(x, classes):\n",
      "    bestClass = None\n",
      "    bestLogProb = -float('inf')\n",
      "    for C in classes:\n",
      "        logProb = C.getLogProb(x)\n",
      "        if logProb > bestLogProb:\n",
      "            bestLogProb = logProb\n",
      "            bestClass = C\n",
      "    return bestClass\n",
      "def saveSamples(fp, samples):\n",
      "    n = len(samples)\n",
      "    fp.write(n)\n",
      "    fp.write('\\n')\n",
      "    fp.write(','.join(samples))\n",
      "    fp.write('\\n')\n",
      "def loadSamples(fp):\n",
      "    n = fp.readline()\n",
      "    samples = np.array(n)\n",
      "    line = fp.readline()\n",
      "    line = fp.split(',')\n",
      "    for i in range(n):\n",
      "        samples[i] = float(line[i])\n",
      "    return samples"
     ],
     "language": "python",
     "metadata": {},
     "outputs": [],
     "prompt_number": 7
    },
    {
     "cell_type": "code",
     "collapsed": false,
     "input": [
      "# Testing Parameters\n",
      "A_SAMPLES_FNAME = '1-1.txt'\n",
      "B_SAMPLES_FNAME = '1-2.txt'"
     ],
     "language": "python",
     "metadata": {},
     "outputs": [],
     "prompt_number": 3
    },
    {
     "cell_type": "code",
     "collapsed": false,
     "input": [
      "# Load Data\n",
      "with open(A_SAMPLES_FNAME, 'rb') as fp:\n",
      "    A_samples = np.loadtxt(fp, dtype='float')\n",
      "with open(B_SAMPLES_FNAME, 'rb') as fp:\n",
      "    B_samples = np.loadtxt(fp, dtype='float')\n",
      "print('A:', A_samples.shape)\n",
      "print('B:', B_samples.shape)"
     ],
     "language": "python",
     "metadata": {},
     "outputs": [
      {
       "output_type": "stream",
       "stream": "stdout",
       "text": [
        "A: (10000, 2)\n",
        "B: (10000, 2)\n"
       ]
      }
     ],
     "prompt_number": 5
    },
    {
     "cell_type": "code",
     "collapsed": false,
     "input": [],
     "language": "python",
     "metadata": {},
     "outputs": []
    }
   ],
   "metadata": {}
  }
 ]
}